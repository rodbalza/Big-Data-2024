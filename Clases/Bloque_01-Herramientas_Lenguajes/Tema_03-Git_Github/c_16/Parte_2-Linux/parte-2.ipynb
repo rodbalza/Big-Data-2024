{
 "cells": [
  {
   "cell_type": "markdown",
   "metadata": {},
   "source": []
  },
  {
   "cell_type": "markdown",
   "metadata": {},
   "source": [
    "# Parte 2: Linux"
   ]
  },
  {
   "cell_type": "markdown",
   "metadata": {},
   "source": [
    "## 2.1 Scripting con bash"
   ]
  },
  {
   "cell_type": "markdown",
   "metadata": {},
   "source": [
    "Contexto: Eres un ingeniero de datos que trabaja con grandes volúmenes de archivos CSV. Se te pide que automatices un proceso en Bash para analizar estos archivos, contar las líneas y calcular su tamaño total. Además, debes simular un sistema de archivos realista para un proyecto de Data Engineering y Big Data, con carpetas que representen las fases del flujo de datos."
   ]
  },
  {
   "cell_type": "markdown",
   "metadata": {},
   "source": [
    "Instrucciones:\n",
    "\n",
    "1.Escribe un script en Bash que haga lo siguiente:\n",
    "\n",
    "1. Crea un sistema de archivos para un proyecto de Data Engineering y Big Data, con directorios y archivos vacíos representativos.\n",
    "2. En el directorio raw_data, crea 5 archivos CSV vacíos de referencia.\n",
    "3. Recorre todos los archivos CSV en el directorio raw_data, cuenta el número de líneas en cada archivo y muestra el nombre del  archivo seguido por el número de líneas.\n",
    "5. Calcula el tamaño total (en bytes) de todos los archivos CSV combinados.\n",
    "6. Guarda el resultado de los archivos y sus líneas, así como el tamaño total en un archivo de log llamado data_summary.log."
   ]
  },
  {
   "cell_type": "markdown",
   "metadata": {},
   "source": [
    "El sistema de archivos debe ser asi:"
   ]
  },
  {
   "cell_type": "code",
   "execution_count": null,
   "metadata": {
    "vscode": {
     "languageId": "bat"
    }
   },
   "outputs": [],
   "source": [
    "/proyecto_data_engineering/\n",
    "├── ingestión_datos/\n",
    "│   ├── raw_data/\n",
    "│       └── archivo1.csv\n",
    "│       └── archivo2.csv\n",
    "│       └── archivo3.csv\n",
    "│       └── archivo4.csv\n",
    "│       └── archivo5.csv\n",
    "│   ├── scripts_ingestión/\n",
    "│       └── script_ingest.sh  # Script de ingestión de datos\n",
    "│   └── logs_ingestión/\n",
    "├── procesamiento/\n",
    "│   ├── scripts_procesamiento/\n",
    "│       └── procesar_datos.py  # Script para procesar datos\n",
    "│   ├── datos_procesados/\n",
    "│   └── logs_procesamiento/\n",
    "├── análisis/\n",
    "│   ├── notebooks/\n",
    "│       └── analisis_datos.ipynb  # Jupyter Notebook para análisis\n",
    "│   ├── informes/\n",
    "│       └── informe_final.pdf  # Archivo PDF simulado\n",
    "│   └── gráficos/\n",
    "└── almacenamiento/\n",
    "    ├── backup/\n",
    "    └── datos_historicos/\n"
   ]
  },
  {
   "cell_type": "markdown",
   "metadata": {},
   "source": [
    "#### Preguntas adicionales. No van dentro del script"
   ]
  },
  {
   "cell_type": "markdown",
   "metadata": {},
   "source": [
    "1. ¿Cómo podrías cambiar los permisos de todos los archivos en el directorio scripts_procesamiento para que sean ejecutables solo por el propietario?"
   ]
  },
  {
   "cell_type": "code",
   "execution_count": null,
   "metadata": {
    "vscode": {
     "languageId": "bat"
    }
   },
   "outputs": [],
   "source": []
  },
  {
   "cell_type": "markdown",
   "metadata": {},
   "source": [
    "2. ¿Cómo podrías mover todos los archivos .csv del directorio raw_data a datos_procesados?"
   ]
  },
  {
   "cell_type": "code",
   "execution_count": null,
   "metadata": {
    "vscode": {
     "languageId": "bat"
    }
   },
   "outputs": [],
   "source": []
  },
  {
   "cell_type": "markdown",
   "metadata": {},
   "source": [
    "3. ¿Cómo podrías eliminar todos los archivos .log del directorio logs_procesamiento y sus subdirectorios?"
   ]
  },
  {
   "cell_type": "markdown",
   "metadata": {},
   "source": []
  },
  {
   "cell_type": "markdown",
   "metadata": {},
   "source": [
    "4. ¿Cómo podrías contar el número total de archivos y subdirectorios en el directorio procesamiento?"
   ]
  },
  {
   "cell_type": "code",
   "execution_count": null,
   "metadata": {
    "vscode": {
     "languageId": "bat"
    }
   },
   "outputs": [],
   "source": []
  },
  {
   "cell_type": "markdown",
   "metadata": {},
   "source": [
    "5. ¿Cómo podrías copiar recursivamente todo el contenido del directorio backup al directorio datos_historicos?"
   ]
  },
  {
   "cell_type": "code",
   "execution_count": null,
   "metadata": {
    "vscode": {
     "languageId": "bat"
    }
   },
   "outputs": [],
   "source": []
  },
  {
   "cell_type": "markdown",
   "metadata": {},
   "source": [
    "6. ¿Cómo podrías buscar en todos los archivos .py del directorio scripts_procesamiento una palabra clave, por ejemplo, \"procesar\"?"
   ]
  },
  {
   "cell_type": "code",
   "execution_count": null,
   "metadata": {
    "vscode": {
     "languageId": "bat"
    }
   },
   "outputs": [],
   "source": []
  },
  {
   "cell_type": "markdown",
   "metadata": {},
   "source": [
    "7. ¿Cómo podrías mostrar el contenido de todos los archivos .sh en el directorio scripts_ingestión?"
   ]
  },
  {
   "cell_type": "markdown",
   "metadata": {},
   "source": []
  },
  {
   "cell_type": "markdown",
   "metadata": {},
   "source": [
    "### 2.2 Expresiones Regulares"
   ]
  },
  {
   "cell_type": "markdown",
   "metadata": {},
   "source": []
  }
 ],
 "metadata": {
  "language_info": {
   "name": "python"
  }
 },
 "nbformat": 4,
 "nbformat_minor": 2
}
