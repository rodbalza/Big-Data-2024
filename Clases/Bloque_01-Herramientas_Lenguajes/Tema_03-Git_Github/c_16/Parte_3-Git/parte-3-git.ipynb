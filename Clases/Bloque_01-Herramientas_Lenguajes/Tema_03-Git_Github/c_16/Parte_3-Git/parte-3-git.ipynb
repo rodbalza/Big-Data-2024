{
 "cells": [
  {
   "cell_type": "markdown",
   "metadata": {},
   "source": [
    "# Parte 3. Git"
   ]
  },
  {
   "cell_type": "markdown",
   "metadata": {},
   "source": [
    "### Propuesta del Sistema de Ficheros"
   ]
  },
  {
   "cell_type": "markdown",
   "metadata": {},
   "source": [
    "Directorio Principal: `bigdata_project/`"
   ]
  },
  {
   "cell_type": "code",
   "execution_count": null,
   "metadata": {
    "vscode": {
     "languageId": "bat"
    }
   },
   "outputs": [],
   "source": [
    "bigdata_project/\n",
    "├── raw_data/\n",
    "│   ├── sales_data.csv\n",
    "│   ├── customer_info.csv\n",
    "│   └── transactions_data.csv\n",
    "├── processed_data/\n",
    "│   ├── cleaned_sales_data.csv\n",
    "│   ├── normalized_customer_info.csv\n",
    "│   └── aggregated_transactions_data.csv\n",
    "├── scripts/\n",
    "│   ├── data_cleaning.py\n",
    "│   ├── data_normalization.py\n",
    "│   └── data_aggregation.py\n",
    "├── models/\n",
    "│   ├── sales_forecasting.py\n",
    "│   ├── customer_segmentation.py\n",
    "│   └── transaction_analysis.py\n",
    "├── config/\n",
    "│   ├── database_config.json\n",
    "│   ├── pipeline_config.yaml\n",
    "│   └── model_params.json\n",
    "└── .gitignore\n"
   ]
  },
  {
   "cell_type": "markdown",
   "metadata": {},
   "source": [
    "Escribir el contenido de los ficheros:"
   ]
  },
  {
   "cell_type": "markdown",
   "metadata": {},
   "source": [
    "El contenido de cada fichero se encuentra en contenido.pdf "
   ]
  },
  {
   "cell_type": "markdown",
   "metadata": {},
   "source": [
    "1. raw_data/sales_data.csv"
   ]
  },
  {
   "cell_type": "markdown",
   "metadata": {},
   "source": [
    "2."
   ]
  },
  {
   "cell_type": "markdown",
   "metadata": {},
   "source": [
    "3."
   ]
  },
  {
   "cell_type": "markdown",
   "metadata": {},
   "source": [
    "### Preguntas:"
   ]
  },
  {
   "cell_type": "markdown",
   "metadata": {},
   "source": [
    "#### Pregunta 1\n",
    "\n",
    "Inicializa un repositorio Git en el directorio principal del proyecto `bigdata_project/`.\n",
    "\n",
    "1. Navega hasta el directorio `bigdata_project/`.\n",
    "2. Ejecuta el comando para inicializar un nuevo repositorio Git.\n",
    "\n",
    "Escribe el comando que utilizaste para inicializar el repositorio."
   ]
  },
  {
   "cell_type": "code",
   "execution_count": null,
   "metadata": {
    "vscode": {
     "languageId": "bat"
    }
   },
   "outputs": [],
   "source": []
  },
  {
   "cell_type": "markdown",
   "metadata": {},
   "source": [
    "#### Pregunta 2\n",
    "\n",
    "Configura tu nombre y correo electrónico para los commits en este repositorio.\n",
    "\n",
    "1. Configura tu nombre como \"Estudiante Git\".\n",
    "2. Configura tu correo como \"estudiante@example.com\".\n",
    "\n",
    "Escribe los comandos que utilizaste para la configuración."
   ]
  },
  {
   "cell_type": "code",
   "execution_count": null,
   "metadata": {
    "vscode": {
     "languageId": "bat"
    }
   },
   "outputs": [],
   "source": []
  },
  {
   "cell_type": "markdown",
   "metadata": {},
   "source": [
    "#### Pregunta 3\n",
    "\n",
    "Realiza un primer commit con los archivos iniciales.\n",
    "\n",
    "1. Añade al staging todos los archivos del proyecto.\n",
    "2. Haz un commit inicial con el mensaje: \"Primer commit - Añadir archivos iniciales\".\n",
    "\n",
    "Escribe los comandos que utilizaste para agregar y hacer el commit."
   ]
  },
  {
   "cell_type": "markdown",
   "metadata": {},
   "source": [
    "#### Pregunta 4\n",
    "\n",
    "Haz cambios en el archivo `scripts/data_cleaning.py` añadiendo un comentario al inicio del script que diga `# Script para limpieza de datos`.\n",
    "\n",
    "1. Realiza el cambio en el archivo.\n",
    "2. Añade solo ese archivo al staging.\n",
    "3. Realiza un commit con el mensaje: \"Modificación en el script de limpieza de datos\".\n",
    "\n",
    "Después, haz cambios en el archivo `scripts/data_aggregation.py` añadiendo un comentario al inicio que diga `# Script para agregación de datos`.\n",
    "\n",
    "1. Realiza el cambio en el archivo.\n",
    "2. Añade el archivo al staging.\n",
    "3. Realiza un commit con el mensaje: \"Modificación en el script de agregación de datos\".\n",
    "\n",
    "Escribe los comandos que utilizaste para hacer estos dos commits por separado."
   ]
  },
  {
   "cell_type": "code",
   "execution_count": null,
   "metadata": {
    "vscode": {
     "languageId": "bat"
    }
   },
   "outputs": [],
   "source": []
  },
  {
   "cell_type": "markdown",
   "metadata": {},
   "source": [
    "#### Pregunta 5\n",
    "\n",
    "Muestra un resumen de todos los commits realizados hasta ahora utilizando el formato reducido de Git.\n",
    "\n",
    "1. Utiliza el comando para ver el historial de commits en formato compacto.\n",
    "\n",
    "Escribe el comando que utilizaste y copia la salida del log.\n"
   ]
  },
  {
   "cell_type": "markdown",
   "metadata": {},
   "source": []
  },
  {
   "cell_type": "markdown",
   "metadata": {},
   "source": [
    "#### Pregunta 6\n",
    "\n",
    "Has descubierto que la versión original del archivo `scripts/data_cleaning.py` es mejor, y necesitas regresar a la versión que tenías en el primer commit.\n",
    "\n",
    "1. Utiliza el comando para regresar solo el archivo `scripts/data_cleaning.py` a la versión del primer commit.\n",
    "2. Verifica que el archivo ha regresado a su estado anterior.\n",
    "\n",
    "Escribe los comandos que utilizaste para hacer el checkout y verifica el contenido del archivo.\n"
   ]
  },
  {
   "cell_type": "markdown",
   "metadata": {},
   "source": []
  },
  {
   "cell_type": "markdown",
   "metadata": {},
   "source": [
    "#### Pregunta 7\n",
    "\n",
    "Revisa todos los comandos de Git que has ejecutado recientemente utilizando `git reflog`.\n",
    "\n",
    "1. Utiliza el comando para ver el registro de referencias (reflog).\n",
    "2. Describe qué observas en la salida de `git reflog`.\n",
    "\n",
    "Escribe el comando y lo que observaste.\n"
   ]
  },
  {
   "cell_type": "markdown",
   "metadata": {},
   "source": [
    "#### Pregunta 8\n",
    "\n",
    "Crea dos etiquetas (tags) en el historial de commits.\n",
    "\n",
    "1. Crea un tag \"v1.0\" en el commit inicial.\n",
    "2. Crea un tag \"v1.1\" en el commit donde modificaste `scripts/data_cleaning.py`.\n",
    "\n",
    "Escribe los comandos que utilizaste para crear estos dos tags.\n"
   ]
  },
  {
   "cell_type": "markdown",
   "metadata": {},
   "source": [
    "#### Pregunta 9\n",
    "\n",
    "Realiza cambios en los archivos `models/sales_forecasting.py` y `config/pipeline_config.yaml`, añade los cambios al área de staging, y luego compara los cambios usando `git diff`.\n",
    "\n",
    "1. Realiza cambios en los dos archivos mencionados.\n",
    "2. Añade los archivos modificados al área de staging.\n",
    "3. Usa `git diff` para mostrar las diferencias antes de hacer el commit.\n",
    "\n",
    "Escribe los comandos que utilizaste y la salida de `git diff`.\n"
   ]
  },
  {
   "cell_type": "markdown",
   "metadata": {},
   "source": [
    "#### Pregunta 10\n",
    "\n",
    "Crea una nueva carpeta llamada `logs/` y un archivo temporal `debug.log` dentro de ella. Luego, añade esta carpeta al archivo `.gitignore` para que no se rastree.\n",
    "\n",
    "1. Crea la carpeta y el archivo.\n",
    "2. Añade la carpeta `logs/` al archivo `.gitignore`.\n",
    "3. Verifica que Git no rastrea los cambios en esa carpeta.\n",
    "\n",
    "Escribe los comandos que utilizaste.\n"
   ]
  },
  {
   "cell_type": "markdown",
   "metadata": {},
   "source": [
    "#### Pregunta 11\n",
    "\n",
    "Realiza un commit, pero luego utiliza `git reset --soft` para deshacer el commit manteniendo los cambios en el área de staging.\n",
    "\n",
    "1. Realiza un commit.\n",
    "2. Usa `git reset --soft` para deshacer ese commit.\n",
    "3. Verifica que los archivos siguen en el área de staging.\n",
    "\n",
    "Escribe los comandos que utilizaste.\n"
   ]
  },
  {
   "cell_type": "markdown",
   "metadata": {},
   "source": [
    "#### Pregunta 12\n",
    "\n",
    "Realiza un commit de varios archivos y luego utiliza `git reset` para deshacer el commit, manteniendo los archivos sin rastrear en su estado modificado.\n",
    "\n",
    "1. Realiza un commit.\n",
    "2. Usa `git reset` (sin opción) para deshacer ese commit.\n",
    "\n",
    "Escribe los comandos que utilizaste y qué observaste después del reset.\n"
   ]
  },
  {
   "cell_type": "markdown",
   "metadata": {},
   "source": [
    "#### Pregunta 13\n",
    "\n",
    "Después de realizar varios cambios en los archivos, usa `git reset --hard` para deshacer todos los cambios tanto en el área de staging como en el working directory.\n",
    "\n",
    "1. Realiza cambios en varios archivos.\n",
    "2. Usa `git reset --hard` para deshacer todos los cambios.\n",
    "\n",
    "Escribe los comandos que utilizaste.\n"
   ]
  },
  {
   "cell_type": "markdown",
   "metadata": {},
   "source": [
    "#### Pregunta 14\n",
    "\n",
    "Edita los archivos `scripts/data_cleaning.py` y `models/customer_segmentation.py`, pero luego usa `git restore` para deshacer los cambios en ambos archivos.\n",
    "\n",
    "1. Edita los dos archivos.\n",
    "2. Usa `git restore` para deshacer los cambios.\n",
    "\n",
    "Escribe los comandos que utilizaste.\n"
   ]
  },
  {
   "cell_type": "markdown",
   "metadata": {},
   "source": [
    "#### Pregunta 15\n",
    "\n",
    "Añade varios archivos al área de staging y luego usa `git restore --staged` para eliminar uno de los archivos del área de staging sin modificar el archivo.\n",
    "\n",
    "1. Añade los archivos `config/database_config.json` y `models/transaction_analysis.py` al área de staging.\n",
    "2. Usa `git restore --staged` para quitar `models/transaction_analysis.py` del área de staging.\n",
    "\n",
    "Escribe los comandos que utilizaste.\n"
   ]
  },
  {
   "cell_type": "markdown",
   "metadata": {},
   "source": [
    "#### Pregunta 16\n",
    "\n",
    "Después de realizar un par de commits, usa `git revert` para deshacer el último commit manteniendo el historial.\n",
    "\n",
    "1. Realiza un par de commits.\n",
    "2. Usa `git revert` para deshacer el último commit.\n",
    "\n",
    "Escribe los comandos que utilizaste.\n"
   ]
  },
  {
   "cell_type": "markdown",
   "metadata": {},
   "source": [
    "#### Pregunta 17\n",
    "\n",
    "Revierta un commit específico anterior en el historial utilizando `git revert`.\n",
    "\n",
    "1. Usa `git log --oneline` para identificar el commit.\n",
    "2. Usa `git revert <commit>` para revertir ese commit.\n",
    "\n",
    "Escribe los comandos que utilizaste.\n"
   ]
  },
  {
   "cell_type": "markdown",
   "metadata": {},
   "source": [
    "#### Pregunta 18\n",
    "\n",
    "Realiza un commit, pero luego corrige el mensaje del commit utilizando `git commit --amend`.\n",
    "\n",
    "1. Realiza un commit.\n",
    "2. Usa `git commit --amend` para corregir el mensaje.\n",
    "\n",
    "Escribe los comandos que utilizaste.\n"
   ]
  },
  {
   "cell_type": "markdown",
   "metadata": {},
   "source": [
    "#### Pregunta 19\n",
    "\n",
    "Mueve el archivo `scripts/data_cleaning.py` a un nuevo directorio llamado `cleaning/` y elimina el archivo `models/sales_forecasting.py` del proyecto usando Git.\n",
    "\n",
    "1. Mueve el archivo con `git mv`.\n",
    "2. Elimina el archivo con `git rm`.\n",
    "\n",
    "Escribe los comandos que utilizaste.\n"
   ]
  },
  {
   "cell_type": "markdown",
   "metadata": {},
   "source": [
    "#### Pregunta 20\n",
    "\n",
    "Crea tres nuevas ramas en tu repositorio llamadas `feature1`, `feature2` y `feature3`.\n",
    "\n",
    "1. Crea la rama `feature1` basada en `main`.\n",
    "2. Crea la rama `feature2` basada en `main`.\n",
    "3. Crea la rama `feature3` basada en `main`.\n",
    "\n",
    "Escribe los comandos que utilizaste para crear las ramas.\n"
   ]
  },
  {
   "cell_type": "markdown",
   "metadata": {},
   "source": [
    "#### Pregunta 21\n",
    "\n",
    "Haz dos commits en la rama `feature1`.\n",
    "\n",
    "1. Cambia el archivo `scripts/data_cleaning.py` añadiendo un comentario.\n",
    "2. Realiza un commit con el mensaje: \"Actualización de feature1 en data_cleaning\".\n",
    "3. Cambia el archivo `models/transaction_analysis.py`.\n",
    "4. Realiza un commit con el mensaje: \"Modificación en transaction_analysis en feature1\".\n",
    "\n",
    "Escribe los comandos que utilizaste.\n"
   ]
  },
  {
   "cell_type": "markdown",
   "metadata": {},
   "source": [
    "#### Pregunta 22\n",
    "\n",
    "Haz dos commits en la rama `feature2`.\n",
    "\n",
    "1. Cambia el archivo `models/sales_forecasting.py`.\n",
    "2. Realiza un commit con el mensaje: \"Actualización de feature2 en sales_forecasting\".\n",
    "3. Cambia el archivo `config/pipeline_config.yaml`.\n",
    "4. Realiza un commit con el mensaje: \"Modificación en pipeline_config en feature2\".\n",
    "\n",
    "Escribe los comandos que utilizaste.\n"
   ]
  },
  {
   "cell_type": "markdown",
   "metadata": {},
   "source": [
    "#### Pregunta 23\n",
    "\n",
    "Haz dos commits en la rama `feature3`.\n",
    "\n",
    "1. Cambia el archivo `config/model_params.json`.\n",
    "2. Realiza un commit con el mensaje: \"Actualización de feature3 en model_params\".\n",
    "3. Cambia el archivo `scripts/data_aggregation.py`.\n",
    "4. Realiza un commit con el mensaje: \"Modificación en data_aggregation en feature3\".\n",
    "\n",
    "Escribe los comandos que utilizaste.\n"
   ]
  },
  {
   "cell_type": "markdown",
   "metadata": {},
   "source": [
    "#### Pregunta 24\n",
    "\n",
    "Realiza un `merge` de las ramas `feature1` y `feature2` a la rama `main`.\n",
    "\n",
    "1. Cambia a la rama `main`.\n",
    "2. Realiza el merge de `feature1` a `main`.\n",
    "3. Realiza el merge de `feature2` a `main`.\n",
    "\n",
    "Escribe los comandos que utilizaste.\n"
   ]
  },
  {
   "cell_type": "markdown",
   "metadata": {},
   "source": [
    "#### Pregunta 25\n",
    "\n",
    "Simula un conflicto de `merge` entre las ramas `feature1` y `feature3`.\n",
    "\n",
    "1. Haz cambios conflictivos en el archivo `scripts/data_cleaning.py` en ambas ramas.\n",
    "2. Intenta hacer un `merge` de `feature1` en `feature3`.\n",
    "3. Describe el conflicto que aparece.\n",
    "\n",
    "Escribe los comandos que utilizaste y lo que observaste.\n"
   ]
  },
  {
   "cell_type": "markdown",
   "metadata": {},
   "source": [
    "#### Pregunta 26\n",
    "\n",
    "Resuelve el conflicto de `merge` entre las ramas `feature1` y `feature3`.\n",
    "\n",
    "1. Edita el archivo `scripts/data_cleaning.py` para resolver el conflicto.\n",
    "2. Añade el archivo resuelto al área de staging.\n",
    "3. Completa el `merge`.\n",
    "\n",
    "Escribe los comandos que utilizaste para resolver el conflicto.\n"
   ]
  },
  {
   "cell_type": "markdown",
   "metadata": {},
   "source": [
    "#### Pregunta 27\n",
    "\n",
    "Mientras trabajas en la rama `feature1`, realizas cambios en el archivo `scripts/data_cleaning.py`, pero necesitas cambiar rápidamente a otra rama sin perder los cambios. Usa `git stash` para guardar temporalmente los cambios.\n",
    "\n",
    "1. Realiza cambios en `scripts/data_cleaning.py`.\n",
    "2. Usa `git stash` para guardar esos cambios.\n",
    "3. Cambia a la rama `main`.\n",
    "\n",
    "Escribe los comandos que utilizaste.\n"
   ]
  },
  {
   "cell_type": "markdown",
   "metadata": {},
   "source": [
    "#### Pregunta 28\n",
    "\n",
    "Aplica los cambios guardados en el `stash` a la rama `main`.\n",
    "\n",
    "1. Asegúrate de estar en la rama `main`.\n",
    "2. Usa `git stash apply` para aplicar los cambios guardados.\n",
    "\n",
    "Escribe los comandos que utilizaste.\n"
   ]
  },
  {
   "cell_type": "markdown",
   "metadata": {},
   "source": [
    "#### Pregunta 29\n",
    "\n",
    "Usa `git stash pop` para aplicar los cambios guardados en el `stash` y eliminar el `stash` después de aplicarlo.\n",
    "\n",
    "1. Asegúrate de estar en la rama `main`.\n",
    "2. Usa `git stash pop` para aplicar y eliminar el stash.\n",
    "\n",
    "Escribe los comandos que utilizaste.\n"
   ]
  },
  {
   "cell_type": "markdown",
   "metadata": {},
   "source": [
    "#### Pregunta 30\n",
    "\n",
    "Revisa el estado del `stash` para ver cuántos `stashes` están guardados en tu repositorio.\n",
    "\n",
    "1. Usa `git stash list` para listar todos los `stashes`.\n",
    "\n",
    "Escribe el comando que utilizaste y copia la salida.\n"
   ]
  },
  {
   "cell_type": "markdown",
   "metadata": {},
   "source": [
    "#### Pregunta 31\n",
    "\n",
    "Después de realizar algunos cambios en la rama `feature1`, decides guardar los cambios usando `git stash`. Luego, quieres aplicar esos cambios en la rama `main` sin eliminarlos del stash.\n",
    "\n",
    "1. Realiza cambios en el archivo `config/pipeline_config.yaml`.\n",
    "2. Guarda los cambios usando `git stash`.\n",
    "3. Cambia a la rama `main`.\n",
    "4. Usa `git stash apply` para aplicar los cambios guardados en `main`, sin eliminar el stash.\n",
    "\n",
    "Escribe los comandos que utilizaste.\n"
   ]
  },
  {
   "cell_type": "markdown",
   "metadata": {},
   "source": [
    "#### Pregunta 32\n",
    "\n",
    "Quieres ver qué archivos fueron modificados en el último `stash` sin aplicarlo.\n",
    "\n",
    "1. Usa `git stash show` para revisar los cambios guardados en el último stash.\n",
    "2. Si quieres más detalles, usa `git stash show -p` para mostrar las diferencias completas.\n",
    "\n",
    "Escribe los comandos que utilizaste y lo que observaste.\n"
   ]
  },
  {
   "cell_type": "markdown",
   "metadata": {},
   "source": [
    "#### Pregunta 33\n",
    "\n",
    "Realiza cambios en varios archivos y guarda estos cambios en el `stash`, incluyendo el área de staging (índice) con `git stash --index`.\n",
    "\n",
    "1. Realiza cambios en los archivos `scripts/data_aggregation.py` y `models/customer_segmentation.py`.\n",
    "2. Añade el archivo `scripts/data_aggregation.py` al área de staging.\n",
    "3. Guarda los cambios en el stash, incluyendo el área de staging, usando `git stash --index`.\n",
    "4. Cambia a la rama `main` y luego aplica los cambios guardados, restaurando el índice correctamente.\n",
    "\n",
    "Escribe los comandos que utilizaste.\n"
   ]
  },
  {
   "cell_type": "markdown",
   "metadata": {},
   "source": []
  }
 ],
 "metadata": {
  "language_info": {
   "name": "python"
  }
 },
 "nbformat": 4,
 "nbformat_minor": 2
}
