{
 "cells": [
  {
   "cell_type": "markdown",
   "metadata": {},
   "source": [
    "# Examen Practico 1\n",
    "## Primera parte. KPI's: Análisis de Pokémon Go "
   ]
  },
  {
   "cell_type": "markdown",
   "metadata": {},
   "source": [
    "Para esta parte, utilizaremos datos del popular juego *Pokémon Go*. Los Pokémon en este juego tienen atributos que determinan su capacidad de combate, tales como **Max CP**, **Ataque**, **Defensa** y **Stamina**, entre otros. Además, algunos Pokémon son legendarios, lo que los hace más raros y poderosos, y cada uno tiene uno o dos tipos que definen su estilo de combate."
   ]
  },
  {
   "cell_type": "markdown",
   "metadata": {},
   "source": [
    "El objetivo es  calcular KPI's que nos ayuden a extraer información valiosa sobre los Pokémon en el dataset, utilizando estos atributos."
   ]
  },
  {
   "cell_type": "markdown",
   "metadata": {},
   "source": [
    "### Columnas del dataset"
   ]
  },
  {
   "cell_type": "markdown",
   "metadata": {},
   "source": [
    "El archivo `pokemon-go.csv` contiene las siguientes columnas:\n",
    "\n",
    "- **Pokemon**: Nombre del Pokémon.\n",
    "- **Max CP**: Los Puntos de Combate Máximos, que indican el poder de combate del Pokémon cuando está completamente mejorado.\n",
    "- **Max HP**: Los Puntos de Salud Máximos, que determinan la cantidad de daño que el Pokémon puede recibir antes de debilitarse.\n",
    "- **Attack**: La fuerza de ataque del Pokémon, que afecta cuánto daño puede hacer en combate.\n",
    "- **Defense**: La defensa del Pokémon, que reduce el daño recibido durante el combate.\n",
    "- **Stamina**: La resistencia del Pokémon, que afecta su capacidad de mantener su salud en combates prolongados.\n",
    "- **Total Stats**: La suma de las estadísticas principales (Ataque, Defensa, y Stamina), que da una visión general de la capacidad total del Pokémon.\n",
    "- **Is Legendary**: Un valor booleano (True/False) que indica si el Pokémon es legendario.\n",
    "- **Type 1**: El tipo principal del Pokémon (por ejemplo, fuego, agua, eléctrico).\n",
    "- **Type 2**: El segundo tipo del Pokémon, si lo tiene; si no, el valor es 'none'."
   ]
  },
  {
   "cell_type": "markdown",
   "metadata": {},
   "source": [
    "Responde las siguientes preguntas calculando los KPI's utilizando el dataset proporcionado."
   ]
  },
  {
   "cell_type": "markdown",
   "metadata": {},
   "source": [
    "## Preguntas"
   ]
  },
  {
   "cell_type": "markdown",
   "metadata": {},
   "source": [
    "###  1. ¿Cuál es el promedio del **Max CP** de los Pokémon para cada tipo de Pokémon (Type 1)?\n",
    "*Hint*: Agrupa los datos por **Type 1** y calcula el promedio de la columna **Max CP**."
   ]
  },
  {
   "cell_type": "markdown",
   "metadata": {},
   "source": [
    "![1](1.png)"
   ]
  },
  {
   "cell_type": "markdown",
   "metadata": {},
   "source": [
    "Respuesta:"
   ]
  },
  {
   "cell_type": "markdown",
   "metadata": {},
   "source": [
    "### 2. Calcula la **tasa de Pokémon legendarios** como un porcentaje del total de Pokémon en el dataset.\n",
    "*Hint*: Utiliza la columna **Is Legendary** para contar cuántos Pokémon son legendarios y divídelo por el total de Pokémon."
   ]
  },
  {
   "cell_type": "markdown",
   "metadata": {},
   "source": [
    "![2](2.png)"
   ]
  },
  {
   "cell_type": "markdown",
   "metadata": {},
   "source": [
    "Respuesta:"
   ]
  },
  {
   "cell_type": "markdown",
   "metadata": {},
   "source": [
    "### 3. ¿Cuál es el **promedio de las estadísticas totales** (Total Stats) para cada tipo de Pokémon (Type 1)?\n",
    "*Hint*: Agrupa por **Type 1** y calcula el promedio de la columna **Total Stats**.\n"
   ]
  },
  {
   "cell_type": "markdown",
   "metadata": {},
   "source": [
    "![3](3.png)"
   ]
  },
  {
   "cell_type": "markdown",
   "metadata": {},
   "source": [
    "Respuesta:"
   ]
  },
  {
   "cell_type": "markdown",
   "metadata": {},
   "source": [
    "### 4. Calcula la **relación promedio entre ataque y defensa** de todos los Pokémon en el dataset.\n",
    "*Hint*: Calcula el promedio de la columna **Attack** y divídelo entre el promedio de la columna **Defense**."
   ]
  },
  {
   "cell_type": "markdown",
   "metadata": {},
   "source": [
    "![4](4.png)"
   ]
  },
  {
   "cell_type": "markdown",
   "metadata": {},
   "source": [
    "Respuesta:"
   ]
  },
  {
   "cell_type": "markdown",
   "metadata": {},
   "source": [
    "### 5. ¿Cuál es el **porcentaje de Pokémon que tienen un tipo secundario** (Type 2) en lugar de 'none'?\n",
    "*Hint*: Filtra los Pokémon que tienen un **Type 2** distinto de 'none' y calcula el porcentaje en relación al total de Pokémon."
   ]
  },
  {
   "cell_type": "markdown",
   "metadata": {},
   "source": [
    "![5](5.png)"
   ]
  },
  {
   "cell_type": "markdown",
   "metadata": {},
   "source": [
    "Respuesta:"
   ]
  },
  {
   "cell_type": "markdown",
   "metadata": {},
   "source": [
    "### 6. ¿Qué tipo de Pokémon (Type 1) tiene el promedio más alto de **Max HP**?\n",
    "*Hint*: Agrupa por **Type 1** y calcula el promedio de la columna **Max HP**, luego identifica el tipo con el valor más alto."
   ]
  },
  {
   "cell_type": "markdown",
   "metadata": {},
   "source": [
    "![6](6.png)"
   ]
  },
  {
   "cell_type": "markdown",
   "metadata": {},
   "source": [
    "Respuesta:"
   ]
  },
  {
   "cell_type": "markdown",
   "metadata": {},
   "source": [
    "### 7. Calcula el **porcentaje de Pokémon no legendarios** que tienen un **Max CP** mayor a 2500.\n",
    "*Hint*: Filtra los Pokémon no legendarios y luego cuenta cuántos tienen un **Max CP** superior a 2500, divídelo por el total de Pokémon no legendarios."
   ]
  },
  {
   "cell_type": "markdown",
   "metadata": {},
   "source": [
    "![7](7.png)"
   ]
  },
  {
   "cell_type": "markdown",
   "metadata": {},
   "source": [
    "Respuesta:"
   ]
  },
  {
   "cell_type": "markdown",
   "metadata": {},
   "source": [
    "### 8. ¿Cuál es el **promedio de Max CP** de los Pokémon que tienen un tipo secundario (Type 2)?\n",
    "*Hint*: Filtra los Pokémon que tienen un **Type 2** distinto de 'none' y calcula el promedio de la columna **Max CP**."
   ]
  },
  {
   "cell_type": "markdown",
   "metadata": {},
   "source": [
    "![8](8.png)"
   ]
  },
  {
   "cell_type": "markdown",
   "metadata": {},
   "source": [
    "Respuesta:"
   ]
  },
  {
   "cell_type": "markdown",
   "metadata": {},
   "source": [
    "### 9. ¿Cuál es el **porcentaje de Pokémon legendarios** que tienen un **Max CP** mayor al promedio de todos los Pokémon?\n",
    "*Hint*: Calcula el promedio de **Max CP** para todos los Pokémon, luego filtra los legendarios y calcula qué porcentaje tiene un **Max CP** mayor que ese promedio."
   ]
  },
  {
   "cell_type": "markdown",
   "metadata": {},
   "source": [
    "![9](9.png)"
   ]
  },
  {
   "cell_type": "markdown",
   "metadata": {},
   "source": [
    "Respuesta:"
   ]
  },
  {
   "cell_type": "markdown",
   "metadata": {},
   "source": [
    "### 10. ¿Cuál es el **tipo de Pokémon (Type 1) más común** en el dataset?\n",
    "*Hint*: Cuenta cuántos Pokémon hay de cada tipo (Type 1) y determina cuál tiene la mayor cantidad de Pokémon."
   ]
  },
  {
   "cell_type": "markdown",
   "metadata": {},
   "source": [
    "![10](10.png)"
   ]
  },
  {
   "cell_type": "markdown",
   "metadata": {},
   "source": [
    "Respuesta:"
   ]
  },
  {
   "cell_type": "markdown",
   "metadata": {},
   "source": [
    "### 11. ¿Cuál es el **promedio de defensa** de los Pokémon que no son legendarios?\n"
   ]
  },
  {
   "cell_type": "markdown",
   "metadata": {},
   "source": [
    "Respuesta:"
   ]
  },
  {
   "cell_type": "markdown",
   "metadata": {},
   "source": [
    "### 12. ¿Cuál es el **número total de tipos secundarios únicos** (Type 2) que existen en el dataset?"
   ]
  },
  {
   "cell_type": "markdown",
   "metadata": {},
   "source": [
    "Respuesta:"
   ]
  },
  {
   "cell_type": "markdown",
   "metadata": {},
   "source": [
    "### 13. ¿Cuál es el **porcentaje de Pokémon con Max HP mayor al promedio de todos los Pokémon**?"
   ]
  },
  {
   "cell_type": "markdown",
   "metadata": {},
   "source": [
    "Respuesta:"
   ]
  },
  {
   "cell_type": "markdown",
   "metadata": {},
   "source": [
    "### 14. ¿Qué **porcentaje de Pokémon tienen un Total Stats menor que 400**?"
   ]
  },
  {
   "cell_type": "markdown",
   "metadata": {},
   "source": [
    "Respuesta:"
   ]
  },
  {
   "cell_type": "markdown",
   "metadata": {},
   "source": [
    "### 15. ¿Cuál es el **tipo de Pokémon (Type 1) con el promedio más bajo de ataque**?"
   ]
  },
  {
   "cell_type": "markdown",
   "metadata": {},
   "source": [
    "Respuesta:"
   ]
  }
 ],
 "metadata": {
  "language_info": {
   "name": "python"
  }
 },
 "nbformat": 4,
 "nbformat_minor": 2
}
