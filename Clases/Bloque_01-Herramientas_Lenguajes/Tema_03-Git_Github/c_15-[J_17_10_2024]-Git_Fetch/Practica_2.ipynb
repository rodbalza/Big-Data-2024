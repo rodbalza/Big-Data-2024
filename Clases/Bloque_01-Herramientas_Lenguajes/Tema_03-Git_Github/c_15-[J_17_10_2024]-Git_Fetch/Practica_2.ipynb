{
 "cells": [
  {
   "cell_type": "markdown",
   "metadata": {},
   "source": [
    "### Practica 2 "
   ]
  },
  {
   "cell_type": "markdown",
   "metadata": {},
   "source": [
    "Eres el arquitecto de datos principal en una empresa global de retail que está migrando su plataforma de análisis de datos a Azure. El proyecto implica procesar terabytes de datos de ventas y clientes, implementar modelos de ML para predicción de demanda y crear un pipeline de datos en tiempo real para análisis de inventario."
   ]
  },
  {
   "cell_type": "markdown",
   "metadata": {},
   "source": [
    "Estructura del proyecto"
   ]
  },
  {
   "cell_type": "code",
   "execution_count": null,
   "metadata": {
    "vscode": {
     "languageId": "bat"
    }
   },
   "outputs": [],
   "source": [
    "azure_retail_analytics/\n",
    "│\n",
    "├── data/\n",
    "│   ├── raw/\n",
    "│   ├── processed/\n",
    "│   └── models/\n",
    "│\n",
    "├── src/\n",
    "│   ├── etl/\n",
    "│   │   ├── extract_from_blob.py\n",
    "│   │   ├── transform_with_databricks.py\n",
    "│   │   └── load_to_synapse.py\n",
    "│   │\n",
    "│   ├── ml/\n",
    "│   │   ├── train_demand_forecast.py\n",
    "│   │   └── deploy_to_aks.py\n",
    "│   │\n",
    "│   └── stream/\n",
    "│       └── inventory_analysis.py\n",
    "│\n",
    "├── iac/\n",
    "│   ├── main.tf\n",
    "│   └── variables.tf\n",
    "│\n",
    "├── adf/\n",
    "│   └── pipelines/\n",
    "│       ├── daily_sales_etl.json\n",
    "│       └── ml_model_training.json\n",
    "│\n",
    "├── notebooks/\n",
    "│   └── exploratory_analysis.ipynb\n",
    "│\n",
    "├── tests/\n",
    "│   ├── test_etl.py\n",
    "│   └── test_ml.py\n",
    "│\n",
    "├── .gitignore\n",
    "├── requirements.txt\n",
    "└── README.md"
   ]
  },
  {
   "cell_type": "markdown",
   "metadata": {},
   "source": [
    "1. Inicia un nuevo repositorio:"
   ]
  },
  {
   "cell_type": "code",
   "execution_count": null,
   "metadata": {
    "vscode": {
     "languageId": "bat"
    }
   },
   "outputs": [],
   "source": []
  },
  {
   "cell_type": "markdown",
   "metadata": {},
   "source": [
    "2. Configura tu nombre de usuario y email para este repositorio"
   ]
  },
  {
   "cell_type": "code",
   "execution_count": null,
   "metadata": {
    "vscode": {
     "languageId": "bat"
    }
   },
   "outputs": [],
   "source": []
  },
  {
   "cell_type": "markdown",
   "metadata": {},
   "source": [
    "3. Crea un archivo .gitignore con el siguiente contenido:"
   ]
  },
  {
   "cell_type": "code",
   "execution_count": null,
   "metadata": {
    "vscode": {
     "languageId": "bat"
    }
   },
   "outputs": [],
   "source": [
    "# Python\n",
    "__pycache__/\n",
    "*.py[cod]\n",
    "\n",
    "# Notebooks\n",
    ".ipynb_checkpoints\n",
    "\n",
    "# Azure\n",
    ".azure\n",
    "\n",
    "# Terraform\n",
    ".terraform\n",
    "*.tfstate\n",
    "*.tfstate.*\n",
    "\n",
    "# Credenciales\n",
    "*.key\n",
    "*.pem"
   ]
  },
  {
   "cell_type": "markdown",
   "metadata": {},
   "source": [
    "Explicar el contenido del gitignore."
   ]
  },
  {
   "cell_type": "markdown",
   "metadata": {},
   "source": [
    "4. Añade y realiza el commit inicial:"
   ]
  },
  {
   "cell_type": "code",
   "execution_count": null,
   "metadata": {
    "vscode": {
     "languageId": "bat"
    }
   },
   "outputs": [],
   "source": []
  },
  {
   "cell_type": "markdown",
   "metadata": {},
   "source": [
    "#### Desarrollo de las ramas principales"
   ]
  },
  {
   "cell_type": "markdown",
   "metadata": {},
   "source": [
    "Trabajaremos con 4 ramas principales: etl, ml, iac y stream."
   ]
  },
  {
   "cell_type": "markdown",
   "metadata": {},
   "source": [
    "#### Rama ETL"
   ]
  },
  {
   "cell_type": "markdown",
   "metadata": {},
   "source": [
    "1. Crear y cambiarse a la rama etl"
   ]
  },
  {
   "cell_type": "code",
   "execution_count": null,
   "metadata": {
    "vscode": {
     "languageId": "bat"
    }
   },
   "outputs": [],
   "source": []
  },
  {
   "cell_type": "markdown",
   "metadata": {},
   "source": [
    "2. Crea los archivos ETL en  src/etl/:"
   ]
  },
  {
   "cell_type": "markdown",
   "metadata": {},
   "source": [
    "`extract_from_blob.py`:"
   ]
  },
  {
   "cell_type": "code",
   "execution_count": null,
   "metadata": {},
   "outputs": [],
   "source": [
    "from azure.storage.blob import BlobServiceClient\n",
    "\n",
    "def extract_data(container_name, blob_name):\n",
    "    connection_string = \"your_connection_string\"\n",
    "    blob_service_client = BlobServiceClient.from_connection_string(connection_string)\n",
    "    blob_client = blob_service_client.get_blob_client(container=container_name, blob=blob_name)\n",
    "    \n",
    "    return blob_client.download_blob().readall()"
   ]
  },
  {
   "cell_type": "markdown",
   "metadata": {},
   "source": [
    "`transform_with_databricks.py`:"
   ]
  },
  {
   "cell_type": "code",
   "execution_count": null,
   "metadata": {},
   "outputs": [],
   "source": [
    "from pyspark.sql import SparkSession\n",
    "from pyspark.sql.functions import *\n",
    "\n",
    "def transform_data(df):\n",
    "    spark = SparkSession.builder.appName(\"TransformSalesData\").getOrCreate()\n",
    "    \n",
    "    transformed_df = df.withColumn(\"total_amount\", col(\"quantity\") * col(\"unit_price\")) \\\n",
    "                      .groupBy(\"date\", \"product_id\") \\\n",
    "                      .agg(sum(\"total_amount\").alias(\"daily_sales\"))\n",
    "    \n",
    "    return transformed_df"
   ]
  },
  {
   "cell_type": "markdown",
   "metadata": {},
   "source": [
    "`load_to_synapse.py`:"
   ]
  },
  {
   "cell_type": "code",
   "execution_count": null,
   "metadata": {},
   "outputs": [],
   "source": [
    "from azure.synapse.artifacts.models import SqlScript\n",
    "\n",
    "def load_data(workspace_name, sql_pool_name, table_name, data):\n",
    "    synapse_client = SqlScript(workspace_name)\n",
    "    \n",
    "\t    insert_query = f\"INSERT INTO {table_name} VALUES {','.join(map(str, data))}\"\n",
    "    synapse_client.execute_sql_script(sql_pool_name, insert_query)"
   ]
  },
  {
   "cell_type": "markdown",
   "metadata": {},
   "source": [
    "3. Añade y realiza commits de estos archivos."
   ]
  },
  {
   "cell_type": "code",
   "execution_count": null,
   "metadata": {
    "vscode": {
     "languageId": "bat"
    }
   },
   "outputs": [],
   "source": []
  },
  {
   "cell_type": "markdown",
   "metadata": {},
   "source": [
    "#### Rama ML"
   ]
  },
  {
   "cell_type": "markdown",
   "metadata": {},
   "source": [
    "1. Cambiarse a la rama principal y luego crear la rama `ml` :"
   ]
  },
  {
   "cell_type": "code",
   "execution_count": null,
   "metadata": {
    "vscode": {
     "languageId": "bat"
    }
   },
   "outputs": [],
   "source": []
  },
  {
   "cell_type": "markdown",
   "metadata": {},
   "source": [
    "2. Crea los archivos ML en `src/ml/` :"
   ]
  },
  {
   "cell_type": "markdown",
   "metadata": {},
   "source": [
    "`train_demand_forecast.py`:"
   ]
  },
  {
   "cell_type": "code",
   "execution_count": null,
   "metadata": {},
   "outputs": [],
   "source": [
    "from azureml.core import Workspace, Experiment, ScriptRunConfig\n",
    "\n",
    "def train_model():\n",
    "    ws = Workspace.from_config()\n",
    "    experiment = Experiment(workspace=ws, name=\"demand-forecast\")\n",
    "    config = ScriptRunConfig(source_directory=\".\", script=\"train.py\", compute_target=\"cpu-cluster\")\n",
    "    \n",
    "    run = experiment.submit(config)\n",
    "    run.wait_for_completion(show_output=True)"
   ]
  },
  {
   "cell_type": "markdown",
   "metadata": {},
   "source": [
    "`deploy_to_aks.py`:"
   ]
  },
  {
   "cell_type": "code",
   "execution_count": null,
   "metadata": {},
   "outputs": [],
   "source": [
    "from azureml.core import Model\n",
    "from azureml.core.webservice import AksWebservice, Webservice\n",
    "\n",
    "def deploy_model(model_name, service_name):\n",
    "    ws = Workspace.from_config()\n",
    "    model = Model(ws, name=model_name)\n",
    "    \n",
    "    aks_config = AksWebservice.deploy_configuration()\n",
    "    aks_service = Model.deploy(ws, service_name, [model], aks_config)\n",
    "    aks_service.wait_for_deployment(show_output=True)"
   ]
  },
  {
   "cell_type": "markdown",
   "metadata": {},
   "source": [
    "3. Añadir y confirmar los archivos anteriores."
   ]
  },
  {
   "cell_type": "code",
   "execution_count": null,
   "metadata": {
    "vscode": {
     "languageId": "bat"
    }
   },
   "outputs": [],
   "source": []
  },
  {
   "cell_type": "markdown",
   "metadata": {},
   "source": [
    "#### Rama Stream"
   ]
  },
  {
   "cell_type": "markdown",
   "metadata": {},
   "source": [
    "1. Cambiarse a la rama principal y crear la rama `stream` :"
   ]
  },
  {
   "cell_type": "markdown",
   "metadata": {},
   "source": [
    "`inventory_analysis.py`:"
   ]
  },
  {
   "cell_type": "code",
   "execution_count": null,
   "metadata": {},
   "outputs": [],
   "source": [
    "from azure.eventhub import EventHubConsumerClient\n",
    "from azure.eventhub.aio import EventHubConsumerClient\n",
    "import asyncio\n",
    "\n",
    "async def process_event(partition_context, event):\n",
    "    print(\"Received event from partition: {}\".format(partition_context.partition_id))\n",
    "    print(\"Event data: {}\".format(event.body_as_str()))\n",
    "    await partition_context.update_checkpoint(event)\n",
    "\n",
    "async def main():\n",
    "    client = EventHubConsumerClient.from_connection_string(\n",
    "        conn_str=\"<connection_string>\",\n",
    "        consumer_group=\"$Default\",\n",
    "        eventhub_name=\"<eventhub_name>\"\n",
    "    )\n",
    "    async with client:\n",
    "        await client.receive(on_event=process_event, starting_position=\"-1\")\n",
    "\n",
    "if __name__ == \"__main__\":\n",
    "    loop = asyncio.get_event_loop()\n",
    "    loop.run_until_complete(main())"
   ]
  },
  {
   "cell_type": "markdown",
   "metadata": {},
   "source": [
    "3. Añadir y confirmar cambios de este archivo"
   ]
  },
  {
   "cell_type": "code",
   "execution_count": null,
   "metadata": {
    "vscode": {
     "languageId": "bat"
    }
   },
   "outputs": [],
   "source": []
  },
  {
   "cell_type": "markdown",
   "metadata": {},
   "source": [
    "#### Rama IaC"
   ]
  },
  {
   "cell_type": "markdown",
   "metadata": {},
   "source": [
    "1. Cambia a la rama principal y crear la rama `iac`:"
   ]
  },
  {
   "cell_type": "code",
   "execution_count": null,
   "metadata": {
    "vscode": {
     "languageId": "bat"
    }
   },
   "outputs": [],
   "source": []
  },
  {
   "cell_type": "markdown",
   "metadata": {},
   "source": [
    "2. Crea los archivos de Terraform en `iac/`:"
   ]
  },
  {
   "cell_type": "markdown",
   "metadata": {},
   "source": [
    "`main.tf`:"
   ]
  },
  {
   "cell_type": "code",
   "execution_count": null,
   "metadata": {},
   "outputs": [],
   "source": [
    "provider \"azurerm\" {\n",
    "  features {}\n",
    "}\n",
    "\n",
    "resource \"azurerm_resource_group\" \"rg\" {\n",
    "  name     = var.resource_group_name\n",
    "  location = var.location\n",
    "}\n",
    "\n",
    "resource \"azurerm_storage_account\" \"storage\" {\n",
    "  name                     = var.storage_account_name\n",
    "  resource_group_name      = azurerm_resource_group.rg.name\n",
    "  location                 = azurerm_resource_group.rg.location\n",
    "  account_tier             = \"Standard\"\n",
    "  account_replication_type = \"LRS\"\n",
    "}\n",
    "\n",
    "resource \"azurerm_synapse_workspace\" \"synapse\" {\n",
    "  name                                 = var.synapse_workspace_name\n",
    "  resource_group_name                  = azurerm_resource_group.rg.name\n",
    "  location                             = azurerm_resource_group.rg.location\n",
    "  storage_data_lake_gen2_filesystem_id = azurerm_storage_data_lake_gen2_filesystem.datalake.id\n",
    "  sql_administrator_login              = var.synapse_sql_admin\n",
    "  sql_administrator_login_password     = var.synapse_sql_admin_password\n",
    "}"
   ]
  },
  {
   "cell_type": "markdown",
   "metadata": {},
   "source": [
    "`variables.tf`:"
   ]
  },
  {
   "cell_type": "code",
   "execution_count": null,
   "metadata": {},
   "outputs": [],
   "source": [
    "variable \"resource_group_name\" {\n",
    "  type = string\n",
    "}\n",
    "\n",
    "variable \"location\" {\n",
    "  type = string\n",
    "}\n",
    "\n",
    "variable \"storage_account_name\" {\n",
    "  type = string\n",
    "}\n",
    "\n",
    "variable \"synapse_workspace_name\" {\n",
    "  type = string\n",
    "}\n",
    "\n",
    "variable \"synapse_sql_admin\" {\n",
    "  type = string\n",
    "}\n",
    "\n",
    "variable \"synapse_sql_admin_password\" {\n",
    "  type = string\n",
    "}"
   ]
  },
  {
   "cell_type": "markdown",
   "metadata": {},
   "source": [
    "3. Añadir y confirmar los cambios."
   ]
  },
  {
   "cell_type": "code",
   "execution_count": null,
   "metadata": {
    "vscode": {
     "languageId": "bat"
    }
   },
   "outputs": [],
   "source": []
  },
  {
   "cell_type": "markdown",
   "metadata": {},
   "source": [
    "#### Fusión de ramas"
   ]
  },
  {
   "cell_type": "markdown",
   "metadata": {},
   "source": [
    "1. Vuelve a la rama principal"
   ]
  },
  {
   "cell_type": "code",
   "execution_count": null,
   "metadata": {
    "vscode": {
     "languageId": "bat"
    }
   },
   "outputs": [],
   "source": []
  },
  {
   "cell_type": "markdown",
   "metadata": {},
   "source": [
    "2. Fusiona las ramas en la rama principal:"
   ]
  },
  {
   "cell_type": "code",
   "execution_count": null,
   "metadata": {
    "vscode": {
     "languageId": "bat"
    }
   },
   "outputs": [],
   "source": []
  },
  {
   "cell_type": "markdown",
   "metadata": {},
   "source": [
    "3. Elimina las ramas una vez fusionadas:"
   ]
  },
  {
   "cell_type": "code",
   "execution_count": null,
   "metadata": {
    "vscode": {
     "languageId": "bat"
    }
   },
   "outputs": [],
   "source": []
  },
  {
   "cell_type": "markdown",
   "metadata": {},
   "source": [
    "### Mas preguntas:"
   ]
  },
  {
   "cell_type": "markdown",
   "metadata": {},
   "source": [
    "1. ¿Qué comando usarías para ver el historial de commits de forma concisa?"
   ]
  },
  {
   "cell_type": "code",
   "execution_count": null,
   "metadata": {
    "vscode": {
     "languageId": "bat"
    }
   },
   "outputs": [],
   "source": []
  },
  {
   "cell_type": "markdown",
   "metadata": {},
   "source": [
    "2. Si cometiste un error en el último mensaje de commit, ¿cómo lo corregirías sin crear un nuevo commit?"
   ]
  },
  {
   "cell_type": "code",
   "execution_count": null,
   "metadata": {
    "vscode": {
     "languageId": "bat"
    }
   },
   "outputs": [],
   "source": []
  },
  {
   "cell_type": "markdown",
   "metadata": {},
   "source": [
    "3. ¿Cómo deshaces los cambios en un archivo que aún no ha sido añadido al área de staging?"
   ]
  },
  {
   "cell_type": "code",
   "execution_count": null,
   "metadata": {
    "vscode": {
     "languageId": "bat"
    }
   },
   "outputs": [],
   "source": []
  },
  {
   "cell_type": "markdown",
   "metadata": {},
   "source": [
    "4. Si añadiste un archivo al área de staging por error, ¿cómo lo removerías sin perder los cambios en el archivo?"
   ]
  },
  {
   "cell_type": "code",
   "execution_count": null,
   "metadata": {
    "vscode": {
     "languageId": "bat"
    }
   },
   "outputs": [],
   "source": []
  },
  {
   "cell_type": "markdown",
   "metadata": {},
   "source": [
    "5. ¿Qué comando usarías para deshacer el último commit manteniendo los cambios en tu directorio de trabajo?"
   ]
  },
  {
   "cell_type": "code",
   "execution_count": null,
   "metadata": {
    "vscode": {
     "languageId": "bat"
    }
   },
   "outputs": [],
   "source": []
  },
  {
   "cell_type": "markdown",
   "metadata": {},
   "source": [
    "6. ¿Cómo verías el historial completo de acciones realizadas en el repositorio, incluyendo commits revertidos o borrados?"
   ]
  },
  {
   "cell_type": "markdown",
   "metadata": {},
   "source": []
  },
  {
   "cell_type": "markdown",
   "metadata": {},
   "source": [
    "7. Si eliminaste un archivo por error y ya hiciste commit, ¿cómo lo recuperarías?"
   ]
  },
  {
   "cell_type": "code",
   "execution_count": null,
   "metadata": {
    "vscode": {
     "languageId": "bat"
    }
   },
   "outputs": [],
   "source": []
  },
  {
   "cell_type": "markdown",
   "metadata": {},
   "source": [
    "8. Cómo moverías un archivo a una nueva ubicación en el repositorio y registrarías este cambio en Git?"
   ]
  },
  {
   "cell_type": "code",
   "execution_count": null,
   "metadata": {
    "vscode": {
     "languageId": "bat"
    }
   },
   "outputs": [],
   "source": []
  },
  {
   "cell_type": "markdown",
   "metadata": {},
   "source": [
    "9. Si quieres eliminar un archivo del repositorio pero mantenerlo en tu sistema de archivos local, ¿qué comando usarías?"
   ]
  },
  {
   "cell_type": "code",
   "execution_count": null,
   "metadata": {
    "vscode": {
     "languageId": "bat"
    }
   },
   "outputs": [],
   "source": []
  },
  {
   "cell_type": "markdown",
   "metadata": {},
   "source": [
    "10. ¿Cómo fusionarías la rama 'feature' en la rama 'main', asumiendo que no hay conflictos?"
   ]
  },
  {
   "cell_type": "code",
   "execution_count": null,
   "metadata": {
    "vscode": {
     "languageId": "bat"
    }
   },
   "outputs": [],
   "source": []
  }
 ],
 "metadata": {
  "language_info": {
   "name": "python"
  }
 },
 "nbformat": 4,
 "nbformat_minor": 2
}
